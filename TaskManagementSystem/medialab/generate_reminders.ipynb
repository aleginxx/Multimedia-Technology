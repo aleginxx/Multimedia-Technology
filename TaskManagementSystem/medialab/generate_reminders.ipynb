{
 "cells": [
  {
   "cell_type": "code",
   "execution_count": 4,
   "id": "081792f4",
   "metadata": {},
   "outputs": [],
   "source": [
    "import json\n",
    "from datetime import date, timedelta\n",
    "import random\n",
    "\n",
    "def parse_date(date_list):\n",
    "    return date(date_list[0], date_list[1], date_list[2])\n",
    "\n",
    "with open(\"tasks.json\", \"r\") as f:\n",
    "    tasks = json.load(f)\n",
    "\n",
    "reminders = []\n",
    "count = 0\n",
    "for task in tasks:\n",
    "    if task[\"status\"] != \"Completed\":\n",
    "        taskTitle = task[\"title\"]\n",
    "        dueDate = parse_date(task[\"dueDate\"])\n",
    "        \n",
    "        # Generate a reminder date that is not in the past and not after the due date\n",
    "        reminderDate = date.today()\n",
    "        while reminderDate < date.today() or reminderDate > dueDate:\n",
    "            reminderDate += timedelta(days=1)\n",
    "        \n",
    "        time_to_due = (dueDate - reminderDate).days\n",
    "        if time_to_due > 0:  # Avoid issues if reminderDate is already the same as dueDate\n",
    "            random_offset = random.randint(0, time_to_due)\n",
    "            reminderDate += timedelta(days=random_offset)\n",
    "            \n",
    "        reminders.append({\"taskTitle\": taskTitle, \"reminderDate\": reminderDate.strftime(\"%Y-%m-%d\")})\n",
    "        count += 1\n",
    "        if count >= 30:\n",
    "            break\n",
    "\n",
    "with open(\"reminders.json\", \"w\") as outfile:\n",
    "    json.dump(reminders, outfile, indent=4)"
   ]
  },
  {
   "cell_type": "code",
   "execution_count": null,
   "id": "f4be74e9",
   "metadata": {},
   "outputs": [],
   "source": []
  }
 ],
 "metadata": {
  "kernelspec": {
   "display_name": "Python 3 (ipykernel)",
   "language": "python",
   "name": "python3"
  },
  "language_info": {
   "codemirror_mode": {
    "name": "ipython",
    "version": 3
   },
   "file_extension": ".py",
   "mimetype": "text/x-python",
   "name": "python",
   "nbconvert_exporter": "python",
   "pygments_lexer": "ipython3",
   "version": "3.10.10"
  }
 },
 "nbformat": 4,
 "nbformat_minor": 5
}
